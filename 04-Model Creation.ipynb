{
 "cells": [
  {
   "cell_type": "code",
   "execution_count": 1,
   "id": "3cec3af5",
   "metadata": {},
   "outputs": [],
   "source": [
    "import warnings\n",
    "import numpy as np\n",
    "import pandas as pd\n",
    "import seaborn as sns\n",
    "warnings.filterwarnings(\"ignore\")\n",
    "from matplotlib import pyplot as plt\n",
    "import pickle"
   ]
  },
  {
   "cell_type": "code",
   "execution_count": 2,
   "id": "925e3012",
   "metadata": {},
   "outputs": [],
   "source": [
    "X=pd.read_csv('x_data.csv')"
   ]
  },
  {
   "cell_type": "code",
   "execution_count": 3,
   "id": "70d71ee1",
   "metadata": {},
   "outputs": [],
   "source": [
    "y=pd.read_csv('y_data.csv')\n",
    "y=y.astype(\"int\")"
   ]
  },
  {
   "cell_type": "code",
   "execution_count": 4,
   "id": "ca65df6c",
   "metadata": {},
   "outputs": [
    {
     "name": "stdout",
     "output_type": "stream",
     "text": [
      "Index(['carlength', 'carwidth', 'curbweight', 'enginesize', 'horsepower',\n",
      "       'doornumber', 'mpg', 'carbody_sedan'],\n",
      "      dtype='object')\n"
     ]
    }
   ],
   "source": [
    "from sklearn.ensemble import RandomForestClassifier\n",
    "from sklearn.feature_selection import SelectFromModel\n",
    "sel = SelectFromModel(RandomForestClassifier(n_estimators = 100))\n",
    "sel.fit(X, y)\n",
    "sel.get_support()\n",
    "selected_feat= X.columns[(sel.get_support())]\n",
    "print(selected_feat)"
   ]
  },
  {
   "cell_type": "code",
   "execution_count": 5,
   "id": "ae7130c6",
   "metadata": {},
   "outputs": [
    {
     "data": {
      "text/html": [
       "<div>\n",
       "<style scoped>\n",
       "    .dataframe tbody tr th:only-of-type {\n",
       "        vertical-align: middle;\n",
       "    }\n",
       "\n",
       "    .dataframe tbody tr th {\n",
       "        vertical-align: top;\n",
       "    }\n",
       "\n",
       "    .dataframe thead th {\n",
       "        text-align: right;\n",
       "    }\n",
       "</style>\n",
       "<table border=\"1\" class=\"dataframe\">\n",
       "  <thead>\n",
       "    <tr style=\"text-align: right;\">\n",
       "      <th></th>\n",
       "      <th>carlength</th>\n",
       "      <th>carwidth</th>\n",
       "      <th>curbweight</th>\n",
       "      <th>enginesize</th>\n",
       "      <th>horsepower</th>\n",
       "      <th>doornumber</th>\n",
       "      <th>mpg</th>\n",
       "      <th>carbody_sedan</th>\n",
       "    </tr>\n",
       "  </thead>\n",
       "  <tbody>\n",
       "    <tr>\n",
       "      <th>0</th>\n",
       "      <td>171.2</td>\n",
       "      <td>65.5</td>\n",
       "      <td>2823</td>\n",
       "      <td>152.0</td>\n",
       "      <td>154</td>\n",
       "      <td>2</td>\n",
       "      <td>22.5</td>\n",
       "      <td>0</td>\n",
       "    </tr>\n",
       "    <tr>\n",
       "      <th>1</th>\n",
       "      <td>176.6</td>\n",
       "      <td>66.2</td>\n",
       "      <td>2337</td>\n",
       "      <td>109.0</td>\n",
       "      <td>102</td>\n",
       "      <td>4</td>\n",
       "      <td>27.0</td>\n",
       "      <td>1</td>\n",
       "    </tr>\n",
       "    <tr>\n",
       "      <th>2</th>\n",
       "      <td>177.3</td>\n",
       "      <td>66.3</td>\n",
       "      <td>2507</td>\n",
       "      <td>136.0</td>\n",
       "      <td>110</td>\n",
       "      <td>2</td>\n",
       "      <td>22.0</td>\n",
       "      <td>1</td>\n",
       "    </tr>\n",
       "    <tr>\n",
       "      <th>3</th>\n",
       "      <td>192.7</td>\n",
       "      <td>71.4</td>\n",
       "      <td>2844</td>\n",
       "      <td>136.0</td>\n",
       "      <td>110</td>\n",
       "      <td>4</td>\n",
       "      <td>22.0</td>\n",
       "      <td>1</td>\n",
       "    </tr>\n",
       "    <tr>\n",
       "      <th>4</th>\n",
       "      <td>192.7</td>\n",
       "      <td>71.4</td>\n",
       "      <td>3086</td>\n",
       "      <td>131.0</td>\n",
       "      <td>140</td>\n",
       "      <td>4</td>\n",
       "      <td>18.5</td>\n",
       "      <td>1</td>\n",
       "    </tr>\n",
       "    <tr>\n",
       "      <th>...</th>\n",
       "      <td>...</td>\n",
       "      <td>...</td>\n",
       "      <td>...</td>\n",
       "      <td>...</td>\n",
       "      <td>...</td>\n",
       "      <td>...</td>\n",
       "      <td>...</td>\n",
       "      <td>...</td>\n",
       "    </tr>\n",
       "    <tr>\n",
       "      <th>159</th>\n",
       "      <td>188.8</td>\n",
       "      <td>67.2</td>\n",
       "      <td>3157</td>\n",
       "      <td>130.0</td>\n",
       "      <td>162</td>\n",
       "      <td>4</td>\n",
       "      <td>19.5</td>\n",
       "      <td>0</td>\n",
       "    </tr>\n",
       "    <tr>\n",
       "      <th>160</th>\n",
       "      <td>188.8</td>\n",
       "      <td>68.9</td>\n",
       "      <td>2952</td>\n",
       "      <td>141.0</td>\n",
       "      <td>114</td>\n",
       "      <td>4</td>\n",
       "      <td>25.5</td>\n",
       "      <td>1</td>\n",
       "    </tr>\n",
       "    <tr>\n",
       "      <th>161</th>\n",
       "      <td>188.8</td>\n",
       "      <td>68.8</td>\n",
       "      <td>3049</td>\n",
       "      <td>141.0</td>\n",
       "      <td>160</td>\n",
       "      <td>4</td>\n",
       "      <td>22.0</td>\n",
       "      <td>1</td>\n",
       "    </tr>\n",
       "    <tr>\n",
       "      <th>162</th>\n",
       "      <td>188.8</td>\n",
       "      <td>68.9</td>\n",
       "      <td>3012</td>\n",
       "      <td>173.0</td>\n",
       "      <td>134</td>\n",
       "      <td>4</td>\n",
       "      <td>20.5</td>\n",
       "      <td>1</td>\n",
       "    </tr>\n",
       "    <tr>\n",
       "      <th>163</th>\n",
       "      <td>188.8</td>\n",
       "      <td>68.9</td>\n",
       "      <td>3062</td>\n",
       "      <td>141.0</td>\n",
       "      <td>114</td>\n",
       "      <td>4</td>\n",
       "      <td>22.0</td>\n",
       "      <td>1</td>\n",
       "    </tr>\n",
       "  </tbody>\n",
       "</table>\n",
       "<p>164 rows × 8 columns</p>\n",
       "</div>"
      ],
      "text/plain": [
       "     carlength  carwidth  curbweight  enginesize  horsepower  doornumber  \\\n",
       "0        171.2      65.5        2823       152.0         154           2   \n",
       "1        176.6      66.2        2337       109.0         102           4   \n",
       "2        177.3      66.3        2507       136.0         110           2   \n",
       "3        192.7      71.4        2844       136.0         110           4   \n",
       "4        192.7      71.4        3086       131.0         140           4   \n",
       "..         ...       ...         ...         ...         ...         ...   \n",
       "159      188.8      67.2        3157       130.0         162           4   \n",
       "160      188.8      68.9        2952       141.0         114           4   \n",
       "161      188.8      68.8        3049       141.0         160           4   \n",
       "162      188.8      68.9        3012       173.0         134           4   \n",
       "163      188.8      68.9        3062       141.0         114           4   \n",
       "\n",
       "      mpg  carbody_sedan  \n",
       "0    22.5              0  \n",
       "1    27.0              1  \n",
       "2    22.0              1  \n",
       "3    22.0              1  \n",
       "4    18.5              1  \n",
       "..    ...            ...  \n",
       "159  19.5              0  \n",
       "160  25.5              1  \n",
       "161  22.0              1  \n",
       "162  20.5              1  \n",
       "163  22.0              1  \n",
       "\n",
       "[164 rows x 8 columns]"
      ]
     },
     "execution_count": 5,
     "metadata": {},
     "output_type": "execute_result"
    }
   ],
   "source": [
    "X=X[selected_feat]\n",
    "X"
   ]
  },
  {
   "cell_type": "code",
   "execution_count": 54,
   "id": "52fe05ab",
   "metadata": {},
   "outputs": [
    {
     "name": "stdout",
     "output_type": "stream",
     "text": [
      "carlength 141.1 208.1\n",
      "carwidth 60.3 71.7\n",
      "curbweight 1488 4066\n",
      "enginesize 61.0 326.0\n",
      "horsepower 48 262\n",
      "doornumber 2 4\n",
      "mpg 15.0 51.5\n",
      "carbody_sedan 0 1\n"
     ]
    }
   ],
   "source": [
    "for i in X.columns:\n",
    "    print(i,X[i].min(),X[i].max())"
   ]
  },
  {
   "cell_type": "code",
   "execution_count": 6,
   "id": "fb7ae490",
   "metadata": {},
   "outputs": [],
   "source": [
    "from sklearn.model_selection import train_test_split\n",
    "X_train, X_test, y_train, y_test = train_test_split(X, y, test_size = 0.1, random_state = 0)"
   ]
  },
  {
   "cell_type": "code",
   "execution_count": 7,
   "id": "8c3e7941",
   "metadata": {},
   "outputs": [],
   "source": [
    "# Feature Scaling\n",
    "from sklearn.preprocessing import StandardScaler\n",
    "sc_X = StandardScaler()\n",
    "X_train_scale = sc_X.fit_transform(X_train)\n",
    "X_test_scale = sc_X.transform(X_test)\n",
    "\n",
    "sc_y = StandardScaler()\n",
    "y_train_scale = sc_y.fit_transform(y_train)\n",
    "y_test_scale = sc_y.transform(y_test)"
   ]
  },
  {
   "cell_type": "code",
   "execution_count": 8,
   "id": "5a511fe8",
   "metadata": {},
   "outputs": [
    {
     "data": {
      "text/plain": [
       "LinearRegression()"
      ]
     },
     "execution_count": 8,
     "metadata": {},
     "output_type": "execute_result"
    }
   ],
   "source": [
    "# Fitting Simple Linear Regression to the Training set\n",
    "from sklearn.linear_model import LinearRegression\n",
    "regressor = LinearRegression()\n",
    "regressor.fit(X_train_scale, y_train_scale)"
   ]
  },
  {
   "cell_type": "code",
   "execution_count": 9,
   "id": "66665351",
   "metadata": {},
   "outputs": [],
   "source": [
    "# Predicting the train set results\n",
    "y_pred = regressor.predict(X_train_scale)"
   ]
  },
  {
   "cell_type": "markdown",
   "id": "4b95be82",
   "metadata": {},
   "source": [
    "#### r2_score"
   ]
  },
  {
   "cell_type": "code",
   "execution_count": 10,
   "id": "26513dd0",
   "metadata": {},
   "outputs": [
    {
     "data": {
      "text/plain": [
       "0.8415774716388067"
      ]
     },
     "execution_count": 10,
     "metadata": {},
     "output_type": "execute_result"
    }
   ],
   "source": [
    "from sklearn.metrics import r2_score\n",
    "r2_score(y_train_scale, y_pred)"
   ]
  },
  {
   "cell_type": "markdown",
   "id": "ce056d43",
   "metadata": {},
   "source": [
    "#### Mean absolute error "
   ]
  },
  {
   "cell_type": "code",
   "execution_count": 11,
   "id": "12894061",
   "metadata": {},
   "outputs": [
    {
     "data": {
      "text/plain": [
       "0.2908413959542747"
      ]
     },
     "execution_count": 11,
     "metadata": {},
     "output_type": "execute_result"
    }
   ],
   "source": [
    "from sklearn.metrics import mean_absolute_error\n",
    "mean_absolute_error(y_train_scale, y_pred)"
   ]
  },
  {
   "cell_type": "markdown",
   "id": "c0361e49",
   "metadata": {},
   "source": [
    "#### Mean Square Error (MSE)"
   ]
  },
  {
   "cell_type": "code",
   "execution_count": 12,
   "id": "8ebb64be",
   "metadata": {},
   "outputs": [
    {
     "data": {
      "text/plain": [
       "0.15842252836119325"
      ]
     },
     "execution_count": 12,
     "metadata": {},
     "output_type": "execute_result"
    }
   ],
   "source": [
    "from sklearn.metrics import mean_squared_error\n",
    "mean_squared_error(y_train_scale, y_pred)"
   ]
  },
  {
   "cell_type": "markdown",
   "id": "e631accd",
   "metadata": {},
   "source": [
    "#### Mean absolute percentage error"
   ]
  },
  {
   "cell_type": "code",
   "execution_count": 13,
   "id": "bf14b635",
   "metadata": {},
   "outputs": [
    {
     "data": {
      "text/plain": [
       "1.669129412490385"
      ]
     },
     "execution_count": 13,
     "metadata": {},
     "output_type": "execute_result"
    }
   ],
   "source": [
    "from sklearn.metrics import mean_absolute_percentage_error\n",
    "mean_absolute_percentage_error(y_train_scale, y_pred)"
   ]
  },
  {
   "cell_type": "markdown",
   "id": "4487bccf",
   "metadata": {},
   "source": [
    "#### Root mean square error"
   ]
  },
  {
   "cell_type": "code",
   "execution_count": 14,
   "id": "63d15641",
   "metadata": {},
   "outputs": [
    {
     "data": {
      "text/plain": [
       "0.3980232761550425"
      ]
     },
     "execution_count": 14,
     "metadata": {},
     "output_type": "execute_result"
    }
   ],
   "source": [
    "from sklearn.metrics import mean_squared_error\n",
    "from math import sqrt\n",
    "sqrt(mean_squared_error(y_train_scale, y_pred))"
   ]
  },
  {
   "cell_type": "code",
   "execution_count": 15,
   "id": "6546c3f8",
   "metadata": {},
   "outputs": [
    {
     "data": {
      "text/plain": [
       "Text(0, 0.5, 'y_pred')"
      ]
     },
     "execution_count": 15,
     "metadata": {},
     "output_type": "execute_result"
    },
    {
     "data": {
      "image/png": "[encoded data removed]",
      "text/plain": [
       "<Figure size 432x288 with 1 Axes>"
      ]
     },
     "metadata": {
      "needs_background": "light"
     },
     "output_type": "display_data"
    }
   ],
   "source": [
    "#EVALUATION OF THE MODEL\n",
    "# Plotting y_test and y_pred to understand the spread.\n",
    "fig = plt.figure()\n",
    "plt.scatter(y_train_scale,y_pred)\n",
    "fig.suptitle('y_test vs y_pred', fontsize=20)              # Plot heading \n",
    "plt.xlabel('y_test', fontsize=18)                          # X-label\n",
    "plt.ylabel('y_pred', fontsize=16)   "
   ]
  },
  {
   "cell_type": "markdown",
   "id": "37580798",
   "metadata": {},
   "source": [
    "## predicting the test set result"
   ]
  },
  {
   "cell_type": "code",
   "execution_count": 16,
   "id": "ec83b7d5",
   "metadata": {},
   "outputs": [],
   "source": [
    "y_pred_test = regressor.predict(X_test_scale)"
   ]
  },
  {
   "cell_type": "code",
   "execution_count": 17,
   "id": "d40dc951",
   "metadata": {},
   "outputs": [
    {
     "name": "stdout",
     "output_type": "stream",
     "text": [
      "Testing Metrics\n",
      "mean_absolute_error= 0.26238967001308694\n",
      "mean_squared_error= 0.11318831366757107\n",
      "mean_absolute_percentage_error= 0.5931775451249401\n",
      "rmse= 0.3364347093680601\n"
     ]
    }
   ],
   "source": [
    "# Mean absolute error for test set\n",
    "MAE =mean_absolute_error(y_test_scale, y_pred_test)\n",
    "# Mean Square Error (MSE) for test set\n",
    "MSE=mean_squared_error(y_test_scale, y_pred_test)\n",
    "# Mean absolute percentage error for test set\n",
    "MAPE=mean_absolute_percentage_error(y_test_scale, y_pred_test)\n",
    "# Root mean square error for test set\n",
    "RMSE = sqrt(mean_squared_error(y_test_scale, y_pred_test))\n",
    "print(\"Testing Metrics\")\n",
    "print(\"mean_absolute_error=\",MAE)\n",
    "print(\"mean_squared_error=\",MSE)\n",
    "print(\"mean_absolute_percentage_error=\",MAPE)\n",
    "print(\"rmse=\",RMSE)"
   ]
  },
  {
   "cell_type": "code",
   "execution_count": 18,
   "id": "d308f857",
   "metadata": {
    "scrolled": true
   },
   "outputs": [
    {
     "data": {
      "text/plain": [
       "Text(0, 0.5, 'y_pred')"
      ]
     },
     "execution_count": 18,
     "metadata": {},
     "output_type": "execute_result"
    },
    {
     "data": {
      "image/png": "[encoded data removed]",
      "text/plain": [
       "<Figure size 432x288 with 1 Axes>"
      ]
     },
     "metadata": {
      "needs_background": "light"
     },
     "output_type": "display_data"
    }
   ],
   "source": [
    "#EVALUATION OF THE MODEL\n",
    "# Plotting y_test and y_pred to understand the spread.\n",
    "fig = plt.figure()\n",
    "plt.scatter(y_test_scale,y_pred_test)\n",
    "fig.suptitle('y_test vs y_pred', fontsize=20)              # Plot heading \n",
    "plt.xlabel('y_test', fontsize=18)                          # X-label\n",
    "plt.ylabel('y_pred', fontsize=16)   "
   ]
  },
  {
   "cell_type": "code",
   "execution_count": 19,
   "id": "928ac2a6",
   "metadata": {},
   "outputs": [],
   "source": [
    "pickle.dump(regressor,open(\"regressor.pkl\",\"wb\"))\n",
    "pickle.dump(sc_X,open(\"Scaler_x.pkl\",\"wb\"))\n",
    "pickle.dump(sc_y,open(\"Scaler_y.pkl\",\"wb\"))"
   ]
  },
  {
   "cell_type": "markdown",
   "id": "607b1abf",
   "metadata": {},
   "source": [
    "### Manual code for flask"
   ]
  },
  {
   "cell_type": "code",
   "execution_count": 138,
   "id": "6fd178c6",
   "metadata": {},
   "outputs": [
    {
     "data": {
      "text/html": [
       "<div>\n",
       "<style scoped>\n",
       "    .dataframe tbody tr th:only-of-type {\n",
       "        vertical-align: middle;\n",
       "    }\n",
       "\n",
       "    .dataframe tbody tr th {\n",
       "        vertical-align: top;\n",
       "    }\n",
       "\n",
       "    .dataframe thead th {\n",
       "        text-align: right;\n",
       "    }\n",
       "</style>\n",
       "<table border=\"1\" class=\"dataframe\">\n",
       "  <thead>\n",
       "    <tr style=\"text-align: right;\">\n",
       "      <th></th>\n",
       "      <th>price</th>\n",
       "    </tr>\n",
       "  </thead>\n",
       "  <tbody>\n",
       "    <tr>\n",
       "      <th>107</th>\n",
       "      <td>12764</td>\n",
       "    </tr>\n",
       "    <tr>\n",
       "      <th>101</th>\n",
       "      <td>5572</td>\n",
       "    </tr>\n",
       "  </tbody>\n",
       "</table>\n",
       "</div>"
      ],
      "text/plain": [
       "     price\n",
       "107  12764\n",
       "101   5572"
      ]
     },
     "execution_count": 138,
     "metadata": {},
     "output_type": "execute_result"
    }
   ],
   "source": [
    "y_train.head(2)"
   ]
  },
  {
   "cell_type": "code",
   "execution_count": null,
   "id": "11be7d4d",
   "metadata": {},
   "outputs": [],
   "source": []
  },
  {
   "cell_type": "code",
   "execution_count": 139,
   "id": "6cac89c5",
   "metadata": {},
   "outputs": [
    {
     "data": {
      "text/html": [
       "<div>\n",
       "<style scoped>\n",
       "    .dataframe tbody tr th:only-of-type {\n",
       "        vertical-align: middle;\n",
       "    }\n",
       "\n",
       "    .dataframe tbody tr th {\n",
       "        vertical-align: top;\n",
       "    }\n",
       "\n",
       "    .dataframe thead th {\n",
       "        text-align: right;\n",
       "    }\n",
       "</style>\n",
       "<table border=\"1\" class=\"dataframe\">\n",
       "  <thead>\n",
       "    <tr style=\"text-align: right;\">\n",
       "      <th></th>\n",
       "      <th>carlength</th>\n",
       "      <th>carwidth</th>\n",
       "      <th>curbweight</th>\n",
       "      <th>enginesize</th>\n",
       "      <th>horsepower</th>\n",
       "      <th>doornumber</th>\n",
       "      <th>mpg</th>\n",
       "      <th>carbody_sedan</th>\n",
       "    </tr>\n",
       "  </thead>\n",
       "  <tbody>\n",
       "    <tr>\n",
       "      <th>107</th>\n",
       "      <td>173.2</td>\n",
       "      <td>66.3</td>\n",
       "      <td>2818</td>\n",
       "      <td>156.0</td>\n",
       "      <td>145</td>\n",
       "      <td>2</td>\n",
       "      <td>21.5</td>\n",
       "      <td>0</td>\n",
       "    </tr>\n",
       "    <tr>\n",
       "      <th>101</th>\n",
       "      <td>157.3</td>\n",
       "      <td>63.8</td>\n",
       "      <td>1918</td>\n",
       "      <td>90.0</td>\n",
       "      <td>68</td>\n",
       "      <td>2</td>\n",
       "      <td>39.0</td>\n",
       "      <td>0</td>\n",
       "    </tr>\n",
       "  </tbody>\n",
       "</table>\n",
       "</div>"
      ],
      "text/plain": [
       "     carlength  carwidth  curbweight  enginesize  horsepower  doornumber  \\\n",
       "107      173.2      66.3        2818       156.0         145           2   \n",
       "101      157.3      63.8        1918        90.0          68           2   \n",
       "\n",
       "      mpg  carbody_sedan  \n",
       "107  21.5              0  \n",
       "101  39.0              0  "
      ]
     },
     "execution_count": 139,
     "metadata": {},
     "output_type": "execute_result"
    }
   ],
   "source": [
    "X_train.head(2)"
   ]
  },
  {
   "cell_type": "code",
   "execution_count": 140,
   "id": "de54d2ca",
   "metadata": {},
   "outputs": [
    {
     "data": {
      "text/plain": [
       "array([[ 157.3,   63.8, 1918. ,   90. ,   68. ,    2. ,   39. ,    0. ]])"
      ]
     },
     "execution_count": 140,
     "metadata": {},
     "output_type": "execute_result"
    }
   ],
   "source": [
    "data=X_train.iloc[1].values.reshape(1,-1)\n",
    "data"
   ]
  },
  {
   "cell_type": "code",
   "execution_count": 141,
   "id": "cd8f670b",
   "metadata": {},
   "outputs": [
    {
     "data": {
      "text/plain": [
       "array([[-1.30162596, -1.00274641, -1.15675207, -0.88809368, -0.91100822,\n",
       "        -1.22128024,  1.46022205, -1.07785189]])"
      ]
     },
     "execution_count": 141,
     "metadata": {},
     "output_type": "execute_result"
    }
   ],
   "source": [
    "data=sc_X.transform(data)\n",
    "data"
   ]
  },
  {
   "cell_type": "code",
   "execution_count": 142,
   "id": "4306fd4d",
   "metadata": {},
   "outputs": [
    {
     "data": {
      "text/plain": [
       "array([[-0.99270701]])"
      ]
     },
     "execution_count": 142,
     "metadata": {},
     "output_type": "execute_result"
    }
   ],
   "source": [
    "p=model.predict(data)\n",
    "p"
   ]
  },
  {
   "cell_type": "code",
   "execution_count": 143,
   "id": "7e0ff636",
   "metadata": {},
   "outputs": [
    {
     "data": {
      "text/plain": [
       "5498.118684268919"
      ]
     },
     "execution_count": 143,
     "metadata": {},
     "output_type": "execute_result"
    }
   ],
   "source": [
    "sc_y.inverse_transform(p)[0][0]"
   ]
  },
  {
   "cell_type": "code",
   "execution_count": 147,
   "id": "6d3c822f",
   "metadata": {},
   "outputs": [
    {
     "data": {
      "text/plain": [
       "[11, 22]"
      ]
     },
     "execution_count": 147,
     "metadata": {},
     "output_type": "execute_result"
    }
   ],
   "source": [
    "a={\"A\":11,\"B\":22}\n",
    "list(a.values())"
   ]
  }
 ],
 "metadata": {
  "kernelspec": {
   "display_name": "Python 3 (ipykernel)",
   "language": "python",
   "name": "python3"
  },
  "language_info": {
   "codemirror_mode": {
    "name": "ipython",
    "version": 3
   },
   "file_extension": ".py",
   "mimetype": "text/x-python",
   "name": "python",
   "nbconvert_exporter": "python",
   "pygments_lexer": "ipython3",
   "version": "3.8.8"
  }
 },
 "nbformat": 4,
 "nbformat_minor": 5
}
